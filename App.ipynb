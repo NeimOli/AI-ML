{
 "cells": [
  {
   "cell_type": "code",
   "execution_count": 2,
   "id": "5b8a9f45",
   "metadata": {},
   "outputs": [
    {
     "name": "stdout",
     "output_type": "stream",
     "text": [
      "  message: Optimization terminated successfully.\n",
      "  success: True\n",
      "   status: 0\n",
      "      fun: -7.945823375615215\n",
      "        x: [-1.306e+00]\n",
      "      nit: 5\n",
      "      jac: [-1.192e-06]\n",
      " hess_inv: [[ 8.589e-02]]\n",
      "     nfev: 12\n",
      "     njev: 6\n"
     ]
    }
   ],
   "source": [
    "from scipy.optimize import minimize\n",
    "import numpy as np\n",
    "\n",
    "def f(x):\n",
    "    return x**2 + 10*np.sin(x)\n",
    "\n",
    "result = minimize(f, x0 = 0)\n",
    "print(result)"
   ]
  },
  {
   "cell_type": "code",
   "execution_count": 4,
   "id": "0c5f311b",
   "metadata": {},
   "outputs": [
    {
     "name": "stdout",
     "output_type": "stream",
     "text": [
      "integral of sin(x) from O to pi is 2.0\n"
     ]
    }
   ],
   "source": [
    "from scipy.integrate import quad\n",
    "result ,_ = quad(np.sin, 0, np.pi)\n",
    "print(\"integral of sin(x) from O to pi is\", result)"
   ]
  },
  {
   "cell_type": "code",
   "execution_count": 5,
   "id": "e9ba5ec6",
   "metadata": {},
   "outputs": [
    {
     "name": "stdout",
     "output_type": "stream",
     "text": [
      "integral of sin(x) from O to pi is 2.0\n"
     ]
    }
   ],
   "source": [
    "from scipy.integrate import quad\n",
    "result, test = quad(np.sin, 0, np.pi)\n",
    "print(\"integral of sin(x) from O to pi is\", result)"
   ]
  },
  {
   "cell_type": "code",
   "execution_count": 6,
   "id": "3d1c0770",
   "metadata": {},
   "outputs": [
    {
     "data": {
      "text/plain": [
       "2.220446049250313e-14"
      ]
     },
     "execution_count": 6,
     "metadata": {},
     "output_type": "execute_result"
    }
   ],
   "source": [
    "test"
   ]
  },
  {
   "cell_type": "code",
   "execution_count": 7,
   "id": "8d5d6d86",
   "metadata": {},
   "outputs": [
    {
     "name": "stdout",
     "output_type": "stream",
     "text": [
      "9.0\n"
     ]
    }
   ],
   "source": [
    "#interpolation \n",
    "from scipy.interpolate import interp1d\n",
    "x = np.array ([0,1,2,3,4,5])\n",
    "y = np.array ([0,1,4,6,8,10])\n",
    "f = interp1d(x, y, kind='linear')\n",
    "print(f(4.5))"
   ]
  },
  {
   "cell_type": "code",
   "execution_count": 8,
   "id": "0da30d28",
   "metadata": {},
   "outputs": [
    {
     "name": "stdout",
     "output_type": "stream",
     "text": [
      "Solution of the linear equations is: [2. 3.]\n"
     ]
    }
   ],
   "source": [
    "#linear algebra\n",
    "from scipy.linalg import solve\n",
    "A = np.array([[3, 1], [1, 2]])\n",
    "B = np.array([9, 8])\n",
    "x = solve(A, B)\n",
    "print(\"Solution of the linear equations is:\", x)"
   ]
  },
  {
   "cell_type": "code",
   "execution_count": 9,
   "id": "f7aa48eb",
   "metadata": {},
   "outputs": [
    {
     "name": "stdout",
     "output_type": "stream",
     "text": [
      "t-statistic: -0.08976244386965987\n",
      "p-value: 0.9294672563429089\n"
     ]
    }
   ],
   "source": [
    "#statistics\n",
    "from scipy.stats import ttest_ind\n",
    "\n",
    "group1 =[2,9,3,0,2,5,5,6,3,2]\n",
    "group2 = [3,8,2,7,4,0,2,4,3,5]\n",
    "\n",
    "t_stat, p_value = ttest_ind(group1, group2)\n",
    "print(\"t-statistic:\", t_stat)\n",
    "print(\"p-value:\", p_value)"
   ]
  },
  {
   "cell_type": "code",
   "execution_count": 10,
   "id": "c586e03e",
   "metadata": {},
   "outputs": [
    {
     "name": "stdout",
     "output_type": "stream",
     "text": [
      "Peaks found at indices: [1 3 5 7 9]\n"
     ]
    }
   ],
   "source": [
    "# signal processing\n",
    "from scipy.signal import find_peaks\n",
    "\n",
    "data = np.array([0,1,0,2,0,3,0,2,0,1,0])\n",
    "\n",
    "peaks, _ = find_peaks(data)\n",
    "\n",
    "print (\"Peaks found at indices:\", peaks)"
   ]
  },
  {
   "cell_type": "code",
   "execution_count": 11,
   "id": "a3310abc",
   "metadata": {},
   "outputs": [
    {
     "name": "stdout",
     "output_type": "stream",
     "text": [
      "FFT of the array is: [45. -0.j         -5.+15.38841769j -5. +6.8819096j  -5. +3.63271264j\n",
      " -5. +1.62459848j -5. -0.j         -5. -1.62459848j -5. -3.63271264j\n",
      " -5. -6.8819096j  -5.-15.38841769j]\n"
     ]
    }
   ],
   "source": [
    "from scipy.fft import fft\n",
    "\n",
    "x = np.array([0, 1, 2, 3, 4, 5, 6, 7, 8, 9])\n",
    "y=fft(x)\n",
    "print(\"FFT of the array is:\", y)"
   ]
  },
  {
   "cell_type": "code",
   "execution_count": 12,
   "id": "5fe043e4",
   "metadata": {},
   "outputs": [
    {
     "name": "stdout",
     "output_type": "stream",
     "text": [
      "  message: Desired error not necessarily achieved due to precision loss.\n",
      "  success: False\n",
      "   status: 2\n",
      "      fun: -41026334.17972876\n",
      "        x: [-3.459e+02]\n",
      "      nit: 2\n",
      "      jac: [ 3.569e+05]\n",
      " hess_inv: [[-9.665e-04]]\n",
      "     nfev: 238\n",
      "     njev: 113\n"
     ]
    }
   ],
   "source": [
    "from scipy.optimize import minimize\n",
    "import numpy as np\n",
    "\n",
    "def f(x):\n",
    "    return x**3 + 3*x**2 + 4*x + 2\n",
    "\n",
    "result= minimize(f, x0 = 0)\n",
    "print(result)"
   ]
  },
  {
   "cell_type": "code",
   "execution_count": null,
   "id": "53074282",
   "metadata": {},
   "outputs": [],
   "source": []
  }
 ],
 "metadata": {
  "kernelspec": {
   "display_name": "myenv",
   "language": "python",
   "name": "python3"
  },
  "language_info": {
   "codemirror_mode": {
    "name": "ipython",
    "version": 3
   },
   "file_extension": ".py",
   "mimetype": "text/x-python",
   "name": "python",
   "nbconvert_exporter": "python",
   "pygments_lexer": "ipython3",
   "version": "3.12.3"
  }
 },
 "nbformat": 4,
 "nbformat_minor": 5
}
